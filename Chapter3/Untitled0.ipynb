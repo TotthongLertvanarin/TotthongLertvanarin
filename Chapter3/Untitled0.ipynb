{
  "nbformat": 4,
  "nbformat_minor": 0,
  "metadata": {
    "colab": {
      "provenance": [],
      "toc_visible": true
    },
    "kernelspec": {
      "name": "python3",
      "display_name": "Python 3"
    },
    "language_info": {
      "name": "python"
    }
  },
  "cells": [
    {
      "cell_type": "markdown",
      "source": [],
      "metadata": {
        "id": "Puz7kEUXBgz_"
      }
    },
    {
      "cell_type": "markdown",
      "source": [
        "#HEAD1"
      ],
      "metadata": {
        "id": "n9uZCsZGBkNN"
      }
    },
    {
      "cell_type": "markdown",
      "source": [
        "##SUBHEAD1"
      ],
      "metadata": {
        "id": "_gijwXR2BkKx"
      }
    },
    {
      "cell_type": "code",
      "source": [
        "import pandas as pd\n",
        "import numpy as np\n",
        "import matplotlib.pyplot as plt\n",
        "\n",
        "\n",
        "df = pd.read_csv('supermarket.csv', delimiter=',')\n",
        "\n",
        "# Display format and data type information\n",
        "print(df.info())\n",
        "\n",
        "# Define the columns to be deleted\n",
        "columns_to_delete = ['SHOP_WEEK', 'SHOP_WEEKDAY', 'SHOP_HOUR','PROD_CODE_10','PROD_CODE_20','PROD_CODE_30',\n",
        "                     'PROD_CODE_40','CUST_PRICE_SENSITIVITY','CUST_LIFESTAGE','BASKET_SIZE','BASKET_PRICE_SENSITIVITY',\n",
        "                     'BASKET_TYPE','STORE_CODE','STORE_FORMAT','STORE_REGION']\n",
        "\n",
        "# Drop the specified columns\n",
        "df = df.drop(columns=columns_to_delete)\n",
        "\n",
        "# Verify the resulting DataFrame\n",
        "print(df)\n",
        "\n",
        "\n",
        "# Drop rows where 'CUST_CODE' is null\n",
        "df = df.dropna(subset=['CUST_CODE'])\n",
        "\n",
        "# Verify the resulting DataFrame\n",
        "print(df)\n",
        "\n",
        "Check null again all column\n",
        "\n",
        "\n",
        "# Check for null values in each column\n",
        "null_counts = df.isnull().sum()\n",
        "\n",
        "# Display the null counts for each column\n",
        "print(null_counts)\n",
        "\n",
        "\n",
        "#Number customer count distinct\n",
        "unique_customers = df['CUST_CODE'].nunique()\n",
        "print(\"Number of unique customers:\", unique_customers)\n",
        "\n"
      ],
      "metadata": {
        "id": "ie2QBFDKC01a"
      },
      "execution_count": null,
      "outputs": []
    },
    {
      "cell_type": "markdown",
      "source": [
        "**ทำข้อความเป็นตัวหนา**"
      ],
      "metadata": {
        "id": "ElCAS8NQBkIa"
      }
    },
    {
      "cell_type": "markdown",
      "source": [],
      "metadata": {
        "id": "Oc1oBxPkBkF3"
      }
    },
    {
      "cell_type": "markdown",
      "source": [],
      "metadata": {
        "id": "WvKRAAqJBkDZ"
      }
    },
    {
      "cell_type": "markdown",
      "source": [],
      "metadata": {
        "id": "yz1nCi5LBkBT"
      }
    },
    {
      "cell_type": "markdown",
      "source": [],
      "metadata": {
        "id": "AyZp-C1dBj-2"
      }
    },
    {
      "cell_type": "markdown",
      "source": [],
      "metadata": {
        "id": "D8GbClS9Bj8o"
      }
    },
    {
      "cell_type": "markdown",
      "source": [],
      "metadata": {
        "id": "jpoXQKhXBj6i"
      }
    },
    {
      "cell_type": "markdown",
      "source": [],
      "metadata": {
        "id": "9K2e4S6DBj2Y"
      }
    },
    {
      "cell_type": "markdown",
      "source": [],
      "metadata": {
        "id": "QJa8241LBj0V"
      }
    },
    {
      "cell_type": "markdown",
      "source": [],
      "metadata": {
        "id": "CQTOygf4BjyE"
      }
    },
    {
      "cell_type": "markdown",
      "source": [],
      "metadata": {
        "id": "Z_Br4FEEBjvx"
      }
    },
    {
      "cell_type": "markdown",
      "source": [],
      "metadata": {
        "id": "JrRiKV31Bjtc"
      }
    },
    {
      "cell_type": "markdown",
      "source": [],
      "metadata": {
        "id": "lH4eInLGBjq4"
      }
    },
    {
      "cell_type": "markdown",
      "source": [],
      "metadata": {
        "id": "efVPMrGHBjoi"
      }
    },
    {
      "cell_type": "markdown",
      "source": [],
      "metadata": {
        "id": "_jNjoenOBjg0"
      }
    },
    {
      "cell_type": "markdown",
      "source": [],
      "metadata": {
        "id": "u0eYndgsBjel"
      }
    },
    {
      "cell_type": "markdown",
      "source": [],
      "metadata": {
        "id": "OkV0WhYbBjcH"
      }
    },
    {
      "cell_type": "markdown",
      "source": [],
      "metadata": {
        "id": "p0jMlL6-BjZ7"
      }
    },
    {
      "cell_type": "markdown",
      "source": [],
      "metadata": {
        "id": "0Pw_ayqrBjXd"
      }
    },
    {
      "cell_type": "markdown",
      "source": [],
      "metadata": {
        "id": "4OqnZNs4BjPg"
      }
    },
    {
      "cell_type": "markdown",
      "source": [],
      "metadata": {
        "id": "giEI4N_sBjGy"
      }
    },
    {
      "cell_type": "code",
      "execution_count": null,
      "metadata": {
        "id": "5gdIYsmnBeGy"
      },
      "outputs": [],
      "source": []
    }
  ]
}